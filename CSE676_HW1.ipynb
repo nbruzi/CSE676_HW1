{
  "nbformat": 4,
  "nbformat_minor": 0,
  "metadata": {
    "colab": {
      "provenance": []
    },
    "kernelspec": {
      "name": "python3",
      "display_name": "Python 3"
    },
    "language_info": {
      "name": "python"
    }
  },
  "cells": [
    {
      "cell_type": "code",
      "execution_count": 51,
      "metadata": {
        "id": "_KpmkoeYRNlo"
      },
      "outputs": [],
      "source": [
        "import torch\n",
        "import torch.nn as nn\n",
        "import numpy as np\n",
        "import tensorflow as tf\n",
        "import tensorflow.keras.layers as KL\n",
        "from matplotlib import pyplot as plt\n"
      ]
    },
    {
      "cell_type": "code",
      "source": [
        "from keras.datasets import mnist\n",
        "\n",
        "(Xtrain,ytrain),(Xtest,ytest) = mnist.load_data()\n",
        "\n",
        "# Normalize the Inputs\n",
        "Xtrain, Xtest = Xtrain/255.0, Xtest/255.0"
      ],
      "metadata": {
        "id": "hRNQdLXqR0JR"
      },
      "execution_count": 52,
      "outputs": []
    },
    {
      "cell_type": "code",
      "source": [
        "# Making the layers\n",
        "inputs = KL.Input(shape=(28, 28))\n",
        "l = KL.Flatten()(inputs) \n",
        "# Dense Layers: https://keras.io/api/layers/core_layers/dense/   \n",
        "l = KL.Dense(512, activation=tf.nn.relu)(l) # Relu activation function\n",
        "outputs = KL.Dense(10, activation=tf.nn.softmax)(l) # softmax activation function\n",
        "\n",
        "model = tf.keras.models.Model(inputs, outputs)\n",
        "model.summary() \n",
        "# For compile/fit args: https://www.tensorflow.org/api_docs/python/tf/keras/Model\n",
        "model.compile(optimizer=\"adam\",loss=\"sparse_categorical_crossentropy\",metrics=[\"accuracy\"]) # sparse bc labels as ints\n",
        "history  = model.fit(Xtrain, ytrain, epochs=10, validation_data=(Xtest, ytest))"
      ],
      "metadata": {
        "id": "AZGYqV-sRQFd",
        "colab": {
          "base_uri": "https://localhost:8080/"
        },
        "outputId": "fc9eb5a3-e0b0-4ebc-afe4-dff2995f8e7f"
      },
      "execution_count": 66,
      "outputs": [
        {
          "output_type": "stream",
          "name": "stdout",
          "text": [
            "Model: \"model_8\"\n",
            "_________________________________________________________________\n",
            " Layer (type)                Output Shape              Param #   \n",
            "=================================================================\n",
            " input_9 (InputLayer)        [(None, 28, 28)]          0         \n",
            "                                                                 \n",
            " flatten_8 (Flatten)         (None, 784)               0         \n",
            "                                                                 \n",
            " dense_16 (Dense)            (None, 512)               401920    \n",
            "                                                                 \n",
            " dense_17 (Dense)            (None, 10)                5130      \n",
            "                                                                 \n",
            "=================================================================\n",
            "Total params: 407,050\n",
            "Trainable params: 407,050\n",
            "Non-trainable params: 0\n",
            "_________________________________________________________________\n",
            "Epoch 1/10\n",
            "1875/1875 [==============================] - 15s 7ms/step - loss: 0.2013 - accuracy: 0.9416 - val_loss: 0.1006 - val_accuracy: 0.9674\n",
            "Epoch 2/10\n",
            "1875/1875 [==============================] - 14s 7ms/step - loss: 0.0809 - accuracy: 0.9755 - val_loss: 0.0713 - val_accuracy: 0.9776\n",
            "Epoch 3/10\n",
            "1875/1875 [==============================] - 15s 8ms/step - loss: 0.0523 - accuracy: 0.9838 - val_loss: 0.0749 - val_accuracy: 0.9763\n",
            "Epoch 4/10\n",
            "1875/1875 [==============================] - 14s 8ms/step - loss: 0.0362 - accuracy: 0.9885 - val_loss: 0.0690 - val_accuracy: 0.9798\n",
            "Epoch 5/10\n",
            "1875/1875 [==============================] - 14s 7ms/step - loss: 0.0277 - accuracy: 0.9910 - val_loss: 0.0700 - val_accuracy: 0.9787\n",
            "Epoch 6/10\n",
            "1875/1875 [==============================] - 14s 7ms/step - loss: 0.0216 - accuracy: 0.9931 - val_loss: 0.0770 - val_accuracy: 0.9779\n",
            "Epoch 7/10\n",
            "1875/1875 [==============================] - 14s 8ms/step - loss: 0.0172 - accuracy: 0.9941 - val_loss: 0.0719 - val_accuracy: 0.9803\n",
            "Epoch 8/10\n",
            "1875/1875 [==============================] - 14s 7ms/step - loss: 0.0135 - accuracy: 0.9958 - val_loss: 0.0656 - val_accuracy: 0.9826\n",
            "Epoch 9/10\n",
            "1875/1875 [==============================] - 13s 7ms/step - loss: 0.0127 - accuracy: 0.9958 - val_loss: 0.0804 - val_accuracy: 0.9795\n",
            "Epoch 10/10\n",
            "1875/1875 [==============================] - 13s 7ms/step - loss: 0.0106 - accuracy: 0.9964 - val_loss: 0.0999 - val_accuracy: 0.9787\n"
          ]
        }
      ]
    },
    {
      "cell_type": "code",
      "source": [
        "#  For history and plotting https://machinelearningmastery.com/display-deep-learning-model-training-history-in-keras/\n",
        "\n",
        "plt.plot(history.history['loss'])\n",
        "plt.plot(history.history['val_loss'])\n",
        "plt.title('Model Loss')\n",
        "plt.ylabel('Loss')\n",
        "plt.xlabel('Epoch')\n",
        "plt.legend(['Training', 'Test'], loc='upper left')\n",
        "plt.show()\n",
        "\n"
      ],
      "metadata": {
        "colab": {
          "base_uri": "https://localhost:8080/",
          "height": 295
        },
        "id": "mc_dp63McTXO",
        "outputId": "30ea338f-c715-4309-bf7f-b92a5b062145"
      },
      "execution_count": 67,
      "outputs": [
        {
          "output_type": "display_data",
          "data": {
            "text/plain": [
              "<Figure size 432x288 with 1 Axes>"
            ],
            "image/png": "[encoded data removed]"
          },
          "metadata": {
            "needs_background": "light"
          }
        }
      ]
    }
  ]
}